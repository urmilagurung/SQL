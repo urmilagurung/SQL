{
 "cells": [
  {
   "cell_type": "markdown",
   "metadata": {},
   "source": [
    "# SQL Assignment 1"
   ]
  },
  {
   "cell_type": "markdown",
   "metadata": {},
   "source": [
    "Q-1. Write an SQL query to fetch “FIRST_NAME” from Worker table using the alias name as <WORKER_NAME>."
   ]
  },
  {
   "cell_type": "code",
   "execution_count": 163,
   "metadata": {},
   "outputs": [
    {
     "name": "stdout",
     "output_type": "stream",
     "text": [
      "Database created!!\n"
     ]
    }
   ],
   "source": [
    "import mysql.connector as connection\n",
    "try:\n",
    "        mydb=connection.connect(port=3306,username=\"root\",password=\"root\",use_pure=\"True\")\n",
    "        query=\"CREATE DATABASE ORG\"\n",
    "        cursor=mydb.cursor()\n",
    "        cursor.execute(query)\n",
    "        print(\"Database created!!\")\n",
    "        mydb.close()\n",
    "except Exception as e:\n",
    "    print(str(e))"
   ]
  },
  {
   "cell_type": "code",
   "execution_count": 7,
   "metadata": {},
   "outputs": [
    {
     "name": "stdout",
     "output_type": "stream",
     "text": [
      "True\n",
      "Table Created!!\n"
     ]
    }
   ],
   "source": [
    "import mysql.connector as connection\n",
    "\n",
    "try:\n",
    "    mydb = connection.connect(host=\"localhost\", database = 'ORG',user=\"root\", passwd=\"root\",use_pure=True)\n",
    "    # check if the connection is established\n",
    "    print(mydb.is_connected())\n",
    "\n",
    "    query = \"CREATE TABLE Worker (\\\n",
    "    WORKER_ID INT NOT NULL PRIMARY KEY AUTO_INCREMENT,\\\n",
    "    FIRST_NAME CHAR(25),\\\n",
    "    LAST_NAME CHAR(25),\\\n",
    "    SALARY INT(15),\\\n",
    "    JOINING_DATE DATETIME,\\\n",
    "    DEPARTMENT CHAR(25));\"\n",
    "\n",
    "    cursor = mydb.cursor() #create a cursor to execute queries\n",
    "    cursor.execute(query)\n",
    "    print(\"Table Created!!\")\n",
    "    mydb.close()\n",
    "except Exception as e:\n",
    "    mydb.close()\n",
    "    print(str(e))"
   ]
  },
  {
   "cell_type": "code",
   "execution_count": 8,
   "metadata": {},
   "outputs": [
    {
     "name": "stdout",
     "output_type": "stream",
     "text": [
      "Data Inserted!!\n"
     ]
    }
   ],
   "source": [
    "import mysql.connector as connection\n",
    "\n",
    "try:\n",
    "    mydb = connection.connect(host=\"localhost\", database = 'ORG',user=\"root\", passwd=\"root\",use_pure=True)\n",
    "    # check if the connection is established\n",
    "    cursor = mydb.cursor() #create a cursor to execute queries\n",
    "    cursor.execute(\"INSERT INTO Worker\\\n",
    "    (WORKER_ID, FIRST_NAME, LAST_NAME, SALARY, JOINING_DATE, DEPARTMENT) VALUES\\\n",
    "    (001, 'Monika', 'Arora', 100000, '14-02-20 09.00.00', 'HR'),\\\n",
    "    (002, 'Niharika', 'Verma', 80000, '14-06-11 09.00.00', 'Admin'),\\\n",
    "    (003, 'Vishal', 'Singhal', 300000, '14-02-20 09.00.00', 'HR'),\\\n",
    "    (004, 'Amitabh', 'Singh', 500000, '14-02-20 09.00.00', 'Admin'),\\\n",
    "    (005, 'Vivek', 'Bhati', 500000, '14-06-11 09.00.00', 'Admin'),\\\n",
    "    (006, 'Vipul', 'Diwan', 200000, '14-06-11 09.00.00', 'Account'),\\\n",
    "    (007, 'Satish', 'Kumar', 75000, '14-01-20 09.00.00', 'Account'),\\\n",
    "    (008, 'Geetika', 'Chauhan', 90000, '14-04-11 09.00.00', 'Admin')\")\n",
    "    print(\"Data Inserted!!\")\n",
    "    mydb.commit()\n",
    "    mydb.close()\n",
    "except Exception as e:\n",
    "    mydb.close()\n",
    "    print(str(e))"
   ]
  },
  {
   "cell_type": "code",
   "execution_count": 167,
   "metadata": {},
   "outputs": [
    {
     "name": "stdout",
     "output_type": "stream",
     "text": [
      "  WORKER_NAME\n",
      "0      Monika\n",
      "1    Niharika\n",
      "2      Vishal\n",
      "3     Amitabh\n",
      "4       Vivek\n",
      "5       Vipul\n",
      "6      Satish\n",
      "7     Geetika\n"
     ]
    }
   ],
   "source": [
    "import mysql.connector as connection\n",
    "import pandas as pandas\n",
    "\n",
    "try:\n",
    "    mydb = connection.connect(host=\"localhost\", database = 'ORG',user=\"root\", passwd=\"root\",use_pure=True)\n",
    "    query = \"select FIRST_NAME as 'WORKER_NAME'  from worker;\"\n",
    "    result_dataFrame = pandas.read_sql(query,mydb)\n",
    "    print(result_dataFrame)\n",
    "    mydb.close()\n",
    "except Exception as e:\n",
    "    mydb.close()\n",
    "    print(str(e))"
   ]
  },
  {
   "cell_type": "markdown",
   "metadata": {},
   "source": [
    "Q-2. Write an SQL query to fetch unique values of DEPARTMENT from Worker table."
   ]
  },
  {
   "cell_type": "code",
   "execution_count": 168,
   "metadata": {},
   "outputs": [
    {
     "name": "stdout",
     "output_type": "stream",
     "text": [
      "  UNIQUE DEPARTMENT\n",
      "0                HR\n",
      "1             Admin\n",
      "2           Account\n"
     ]
    }
   ],
   "source": [
    "import mysql.connector as connection\n",
    "import pandas as pandas\n",
    "\n",
    "try:\n",
    "    mydb = connection.connect(host=\"localhost\", database = 'ORG',user=\"root\", passwd=\"root\",use_pure=True)\n",
    "    query = \"select distinct(DEPARTMENT) as 'UNIQUE DEPARTMENT' from worker;\"\n",
    "    result_dataFrame = pandas.read_sql(query,mydb)\n",
    "    print(result_dataFrame)\n",
    "    mydb.close()\n",
    "except Exception as e:\n",
    "    mydb.close()\n",
    "    print(str(e))"
   ]
  },
  {
   "cell_type": "markdown",
   "metadata": {},
   "source": [
    "Q-3. Write an SQL query to show the last 5 record from a table."
   ]
  },
  {
   "cell_type": "code",
   "execution_count": 170,
   "metadata": {},
   "outputs": [
    {
     "name": "stdout",
     "output_type": "stream",
     "text": [
      "   WORKER_ID FIRST_NAME LAST_NAME  SALARY        JOINING_DATE DEPARTMENT\n",
      "0          4    Amitabh     Singh  500000 2014-02-20 09:00:00      Admin\n",
      "1          5      Vivek     Bhati  500000 2014-06-11 09:00:00      Admin\n",
      "2          6      Vipul     Diwan  200000 2014-06-11 09:00:00    Account\n",
      "3          7     Satish     Kumar   75000 2014-01-20 09:00:00    Account\n",
      "4          8    Geetika   Chauhan   90000 2014-04-11 09:00:00      Admin\n"
     ]
    }
   ],
   "source": [
    "import mysql.connector as connection\n",
    "import pandas as pandas\n",
    "\n",
    "try:\n",
    "    mydb = connection.connect(host=\"localhost\", database = 'ORG',user=\"root\", passwd=\"root\",use_pure=True)\n",
    "    query = \"(select * from worker order by WORKER_ID desc limit 5)  order by WORKER_ID asc\"\n",
    "    result_dataFrame = pandas.read_sql(query,mydb)\n",
    "    print(result_dataFrame)\n",
    "    mydb.close()\n",
    "except Exception as e:\n",
    "    mydb.close()\n",
    "    print(str(e))"
   ]
  },
  {
   "cell_type": "code",
   "execution_count": 174,
   "metadata": {},
   "outputs": [
    {
     "name": "stdout",
     "output_type": "stream",
     "text": [
      "   WORKER_ID FIRST_NAME LAST_NAME  SALARY        JOINING_DATE DEPARTMENT\n",
      "0          4    Amitabh     Singh  500000 2014-02-20 09:00:00      Admin\n",
      "1          5      Vivek     Bhati  500000 2014-06-11 09:00:00      Admin\n",
      "2          6      Vipul     Diwan  200000 2014-06-11 09:00:00    Account\n",
      "3          7     Satish     Kumar   75000 2014-01-20 09:00:00    Account\n",
      "4          8    Geetika   Chauhan   90000 2014-04-11 09:00:00      Admin\n"
     ]
    }
   ],
   "source": [
    "import mysql.connector as connection\n",
    "import pandas as pandas\n",
    "\n",
    "try:\n",
    "    mydb = connection.connect(host=\"localhost\", database = 'ORG',user=\"root\", passwd=\"root\",use_pure=True)\n",
    "    query = \"SELECT * FROM Worker where WORKER_ID>(SELECT COUNT(*)-5 FROM WORKER)\"\n",
    "    result_dataFrame = pandas.read_sql(query,mydb)\n",
    "    print(result_dataFrame)\n",
    "    mydb.close()\n",
    "except Exception as e:\n",
    "    mydb.close()\n",
    "    print(str(e))"
   ]
  },
  {
   "cell_type": "code",
   "execution_count": 176,
   "metadata": {},
   "outputs": [
    {
     "name": "stdout",
     "output_type": "stream",
     "text": [
      "   WORKER_ID FIRST_NAME LAST_NAME  SALARY        JOINING_DATE DEPARTMENT  SLNO\n",
      "0          4    Amitabh     Singh  500000 2014-02-20 09:00:00      Admin     4\n",
      "1          5      Vivek     Bhati  500000 2014-06-11 09:00:00      Admin     5\n",
      "2          6      Vipul     Diwan  200000 2014-06-11 09:00:00    Account     6\n",
      "3          7     Satish     Kumar   75000 2014-01-20 09:00:00    Account     7\n",
      "4          8    Geetika   Chauhan   90000 2014-04-11 09:00:00      Admin     8\n"
     ]
    }
   ],
   "source": [
    "import mysql.connector as connection\n",
    "import pandas as pandas\n",
    "\n",
    "try:\n",
    "    mydb = connection.connect(host=\"localhost\", database = 'ORG',user=\"root\", passwd=\"root\",use_pure=True)\n",
    "    query = \"SELECT * FROM (SELECT *,ROW_NUMBER() OVER (ORDER BY WORKER_ID) AS SLNO FROM Worker) as Workers where SLNO>(SELECT COUNT(*)-5 FROM WORKER)\"\n",
    "    result_dataFrame = pandas.read_sql(query,mydb)\n",
    "    print(result_dataFrame)\n",
    "    mydb.close()\n",
    "except Exception as e:\n",
    "    mydb.close()\n",
    "    print(str(e))"
   ]
  },
  {
   "cell_type": "markdown",
   "metadata": {},
   "source": [
    " "
   ]
  },
  {
   "cell_type": "markdown",
   "metadata": {},
   "source": [
    " "
   ]
  },
  {
   "cell_type": "code",
   "execution_count": null,
   "metadata": {},
   "outputs": [],
   "source": []
  }
 ],
 "metadata": {
  "kernelspec": {
   "display_name": "Python 3",
   "language": "python",
   "name": "python3"
  },
  "language_info": {
   "codemirror_mode": {
    "name": "ipython",
    "version": 3
   },
   "file_extension": ".py",
   "mimetype": "text/x-python",
   "name": "python",
   "nbconvert_exporter": "python",
   "pygments_lexer": "ipython3",
   "version": "3.8.5"
  }
 },
 "nbformat": 4,
 "nbformat_minor": 4
}
