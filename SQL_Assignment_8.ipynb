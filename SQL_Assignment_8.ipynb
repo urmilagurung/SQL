{
 "cells": [
  {
   "cell_type": "markdown",
   "metadata": {},
   "source": [
    "# SQL Assignment 8"
   ]
  },
  {
   "cell_type": "markdown",
   "metadata": {},
   "source": [
    "Q-15. Write an SQL query to fetch intersecting records of two tables."
   ]
  },
  {
   "cell_type": "code",
   "execution_count": 2,
   "metadata": {},
   "outputs": [
    {
     "name": "stdout",
     "output_type": "stream",
     "text": [
      "   worker_id first_name  worker_id first_name\n",
      "0          1     Monika          1     Monika\n",
      "1          2   Niharika          2   Niharika\n",
      "2          3     Vishal          3     Vishal\n",
      "3          4    Amitabh          4    Amitabh\n",
      "4          5      Vivek          5      Vivek\n",
      "5          6      Vipul          6      Vipul\n",
      "6          7     Satish          7     Satish\n",
      "7          8    Geetika          8    Geetika\n"
     ]
    }
   ],
   "source": [
    "import mysql.connector as connection\n",
    "import pandas as pandas\n",
    "\n",
    "try:\n",
    "    mydb = connection.connect(host=\"localhost\", database = 'ORG',user=\"root\", passwd=\"root\",use_pure=True)\n",
    "    query = \"select worker.worker_id, worker.first_name, workerclone.worker_id, workerclone.first_name from worker\\\n",
    "    inner join workerclone on workerclone.last_name = worker.last_name\"\n",
    "    result_dataFrame = pandas.read_sql(query,mydb)\n",
    "    print(result_dataFrame)\n",
    "    mydb.close()\n",
    "except Exception as e:\n",
    "    mydb.close()\n",
    "    print(str(e))"
   ]
  },
  {
   "cell_type": "markdown",
   "metadata": {},
   "source": [
    "Q-16. Write an SQL query to show records from one table that another table does not have."
   ]
  },
  {
   "cell_type": "code",
   "execution_count": 46,
   "metadata": {},
   "outputs": [
    {
     "name": "stdout",
     "output_type": "stream",
     "text": [
      "Execution failed on sql 'SELECT WORKER_ID FROM worker MINUS    SELECT WORKER_REF_ID FROM title': 1064 (42000): You have an error in your SQL syntax; check the manual that corresponds to your MySQL server version for the right syntax to use near 'SELECT WORKER_REF_ID FROM title' at line 1\n"
     ]
    }
   ],
   "source": [
    "import mysql.connector as connection\n",
    "import pandas as pandas\n",
    "\n",
    "try:\n",
    "    mydb=connection.connect(port=3306,database = 'ORG',username=\"root\",password=\"root\",use_pure=\"True\")\n",
    "    query = \"SELECT WORKER_ID FROM worker MINUS\\\n",
    "    SELECT WORKER_REF_ID FROM title\"\n",
    "    result_dataFrame = pandas.read_sql(query,mydb)\n",
    "    print(result_dataFrame)\n",
    "    mydb.close()\n",
    "except Exception as e:\n",
    "    mydb.close()\n",
    "    print(str(e))"
   ]
  },
  {
   "cell_type": "code",
   "execution_count": 48,
   "metadata": {},
   "outputs": [
    {
     "name": "stdout",
     "output_type": "stream",
     "text": [
      "   WORKER_ID FIRST_NAME LAST_NAME  SALARY        JOINING_DATE DEPARTMENT  \\\n",
      "0          1     Monika     Arora  100000 2014-02-20 09:00:00         HR   \n",
      "1          2   Niharika     Verma   80000 2014-06-11 09:00:00      Admin   \n",
      "2          3     Vishal   Singhal  300000 2014-02-20 09:00:00         HR   \n",
      "3          4    Amitabh     Singh  500000 2014-02-20 09:00:00      Admin   \n",
      "4          5      Vivek     Bhati  500000 2014-06-11 09:00:00      Admin   \n",
      "5          6      Vipul     Diwan  200000 2014-06-11 09:00:00    Account   \n",
      "6          7     Satish     Kumar   75000 2014-01-20 09:00:00    Account   \n",
      "7          8    Geetika   Chauhan   90000 2014-04-11 09:00:00      Admin   \n",
      "\n",
      "   WORKER_REF_ID   WORKER_TITLE AFFECTED_FROM  \n",
      "0              1        Manager    2016-02-20  \n",
      "1              2      Executive    2016-06-11  \n",
      "2              3           Lead    2016-06-11  \n",
      "3              4  Asst. Manager    2016-06-11  \n",
      "4              5        Manager    2016-06-11  \n",
      "5              6           Lead    2016-06-11  \n",
      "6              7      Executive    2016-06-11  \n",
      "7              8      Executive    2016-06-11  \n"
     ]
    }
   ],
   "source": [
    "import mysql.connector as connection\n",
    "import pandas as pandas\n",
    "\n",
    "try:\n",
    "    mydb = connection.connect(host=\"localhost\", database = 'ORG',user=\"root\", passwd=\"root\",use_pure=True)\n",
    "    query = \"select * from worker\\\n",
    "    left join title on title.WORKER_REF_ID = worker.worker_id\"\n",
    "    result_dataFrame = pandas.read_sql(query,mydb)\n",
    "    print(result_dataFrame)\n",
    "    mydb.close()\n",
    "except Exception as e:\n",
    "    mydb.close()\n",
    "    print(str(e))"
   ]
  },
  {
   "cell_type": "markdown",
   "metadata": {},
   "source": [
    "    "
   ]
  },
  {
   "cell_type": "markdown",
   "metadata": {},
   "source": [
    "   "
   ]
  },
  {
   "cell_type": "markdown",
   "metadata": {},
   "source": [
    "   "
   ]
  },
  {
   "cell_type": "markdown",
   "metadata": {},
   "source": [
    "\n",
    "\n",
    "\n",
    "\n",
    "\n",
    "\n",
    "# New Table Addition"
   ]
  },
  {
   "cell_type": "code",
   "execution_count": 8,
   "metadata": {},
   "outputs": [
    {
     "name": "stdout",
     "output_type": "stream",
     "text": [
      "True\n",
      "Table Created!!\n"
     ]
    }
   ],
   "source": [
    "import mysql.connector as connection\n",
    "\n",
    "try:\n",
    "    mydb = connection.connect(host=\"localhost\", database = 'ORG',user=\"root\", passwd=\"root\",use_pure=True)\n",
    "    # check if the connection is established\n",
    "    print(mydb.is_connected())\n",
    "\n",
    "    query = \"CREATE TABLE Title (WORKER_REF_ID INT,WORKER_TITLE CHAR(25),AFFECTED_FROM DATETIME,\\\n",
    "\tFOREIGN KEY (WORKER_REF_ID) REFERENCES Worker(WORKER_ID) ON DELETE CASCADE);\"\n",
    "\n",
    "    cursor = mydb.cursor() #create a cursor to execute queries\n",
    "    cursor.execute(query)\n",
    "    print(\"Table Created!!\")\n",
    "    mydb.close()\n",
    "except Exception as e:\n",
    "    mydb.close()\n",
    "    print(str(e))"
   ]
  },
  {
   "cell_type": "code",
   "execution_count": 16,
   "metadata": {},
   "outputs": [
    {
     "name": "stdout",
     "output_type": "stream",
     "text": [
      "Data Inserted!!\n"
     ]
    }
   ],
   "source": [
    "import mysql.connector as connection\n",
    "\n",
    "try:\n",
    "    mydb = connection.connect(host=\"localhost\", database = 'ORG',user=\"root\", passwd=\"root\",use_pure=True)\n",
    "    # check if the connection is established\n",
    "    cursor = mydb.cursor() #create a cursor to execute queries\n",
    "    cursor.execute(\"INSERT INTO Title (WORKER_REF_ID, WORKER_TITLE, AFFECTED_FROM) VALUES\\\n",
    "    (003, 'Lead', '2016-06-11 00:00:00')\")\n",
    "    print(\"Data Inserted!!\")\n",
    "    mydb.commit()\n",
    "    mydb.close()\n",
    "except Exception as e:\n",
    "    mydb.close()\n",
    "    print(str(e))"
   ]
  },
  {
   "cell_type": "code",
   "execution_count": null,
   "metadata": {},
   "outputs": [],
   "source": []
  }
 ],
 "metadata": {
  "kernelspec": {
   "display_name": "Python 3",
   "language": "python",
   "name": "python3"
  },
  "language_info": {
   "codemirror_mode": {
    "name": "ipython",
    "version": 3
   },
   "file_extension": ".py",
   "mimetype": "text/x-python",
   "name": "python",
   "nbconvert_exporter": "python",
   "pygments_lexer": "ipython3",
   "version": "3.8.5"
  }
 },
 "nbformat": 4,
 "nbformat_minor": 4
}
