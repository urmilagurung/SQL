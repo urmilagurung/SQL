{
 "cells": [
  {
   "cell_type": "markdown",
   "metadata": {},
   "source": [
    "# SQL Assignment 5"
   ]
  },
  {
   "cell_type": "markdown",
   "metadata": {},
   "source": [
    "Q-1. Write an SQL query to print details of workers excluding first names, “Vipul” and “Satish” from Worker table."
   ]
  },
  {
   "cell_type": "code",
   "execution_count": 1,
   "metadata": {},
   "outputs": [
    {
     "name": "stdout",
     "output_type": "stream",
     "text": [
      "   WORKER_ID FIRST_NAME LAST_NAME  SALARY        JOINING_DATE DEPARTMENT\n",
      "0          1     Monika     Arora  100000 2014-02-20 09:00:00         HR\n",
      "1          2   Niharika     Verma   80000 2014-06-11 09:00:00      Admin\n",
      "2          3     Vishal   Singhal  300000 2014-02-20 09:00:00         HR\n",
      "3          4    Amitabh     Singh  500000 2014-02-20 09:00:00      Admin\n",
      "4          5      Vivek     Bhati  500000 2014-06-11 09:00:00      Admin\n",
      "5          8    Geetika   Chauhan   90000 2014-04-11 09:00:00      Admin\n"
     ]
    }
   ],
   "source": [
    "import mysql.connector as connection\n",
    "import pandas as pandas\n",
    "\n",
    "try:\n",
    "    mydb = connection.connect(host=\"localhost\", database = 'ORG',user=\"root\", passwd=\"root\",use_pure=True)\n",
    "    query = \"Select * from Worker where FIRST_NAME not in ('Vipul','Satish')\"\n",
    "    result_dataFrame = pandas.read_sql(query,mydb)\n",
    "    print(result_dataFrame)\n",
    "    mydb.close()\n",
    "except Exception as e:\n",
    "    mydb.close()\n",
    "    print(str(e))"
   ]
  },
  {
   "cell_type": "markdown",
   "metadata": {},
   "source": [
    "Q-2. Write an SQL query to print details of the Workers whose FIRST_NAME ends with ‘h’ and contains six alphabets."
   ]
  },
  {
   "cell_type": "code",
   "execution_count": 6,
   "metadata": {},
   "outputs": [
    {
     "name": "stdout",
     "output_type": "stream",
     "text": [
      "   WORKER_ID FIRST_NAME LAST_NAME  SALARY        JOINING_DATE DEPARTMENT\n",
      "0          7     Satish     Kumar   75000 2014-01-20 09:00:00    Account\n"
     ]
    }
   ],
   "source": [
    "import mysql.connector as connection\n",
    "import pandas as pandas\n",
    "\n",
    "try:\n",
    "    mydb = connection.connect(host=\"localhost\", database = 'ORG',user=\"root\", passwd=\"root\",use_pure=True)\n",
    "    query = \"Select * from Worker where FIRST_NAME like '_____h'\"\n",
    "    result_dataFrame = pandas.read_sql(query,mydb)\n",
    "    print(result_dataFrame)\n",
    "    mydb.close()\n",
    "except Exception as e:\n",
    "    mydb.close()\n",
    "    print(str(e))"
   ]
  },
  {
   "cell_type": "markdown",
   "metadata": {},
   "source": [
    "Q-3. Write a query to validate Email of Employee."
   ]
  },
  {
   "cell_type": "code",
   "execution_count": 9,
   "metadata": {},
   "outputs": [
    {
     "name": "stdout",
     "output_type": "stream",
     "text": [
      "    WORKER_ID FIRST_NAME LAST_NAME  GENDER  DEPARTMENT DATE_OF_JOINING  \\\n",
      "0           1       Mila     Kunis  Female          HR      2021-07-10   \n",
      "1           2       Tina       Miu  Female          IT      2020-06-19   \n",
      "2           3        Zim      Mial    Male  Consultant      1990-05-01   \n",
      "3           4        Sam     Smith    Male     Finance      1989-04-20   \n",
      "4           5        Pam     Pmith  Female          IT      2005-12-19   \n",
      "5           6        Ram     Rmith    Male     Finance      2011-11-30   \n",
      "6           8        Nam     Nmith    Male     Finance      2011-06-05   \n",
      "7           9        Bam     Bmith    Male          HR      2012-06-11   \n",
      "8          70        Jam     Jmith  Female          IT      2001-10-29   \n",
      "9         100        Cam     Cmith    Male          IT      2014-09-17   \n",
      "10        200        Dam     Dmith    Male     Finance      1997-01-02   \n",
      "11        300        Eam     Emith  Female   Transport      1994-02-28   \n",
      "12        400        Fam     Fmith    Male     Finance      2019-07-19   \n",
      "\n",
      "    SALARY               EMAIL_ID  \n",
      "0    15000  mila.kunis@worker.com  \n",
      "1    25000    tina.miu@worker.com  \n",
      "2    21000    zim.mial@worker.com  \n",
      "3    30000   sam.smith@worker.com  \n",
      "4    22000   pam.pmith@worker.com  \n",
      "5    26000   ram.rmith@worker.com  \n",
      "6    78000   nam.nmith@worker.com  \n",
      "7    19000   bam.bmith@worker.com  \n",
      "8    40000   jam.jmith@worker.com  \n",
      "9    12000   cam.cmith@worker.com  \n",
      "10    5000   dam.dmith@worker.com  \n",
      "11   89000   eam.emith@worker.com  \n",
      "12   11000   fam.fmith@worker.com  \n"
     ]
    }
   ],
   "source": [
    "import mysql.connector as connection\n",
    "import pandas as pandas\n",
    "\n",
    "try:\n",
    "    mydb = connection.connect(host=\"localhost\", database = 'employee',user=\"root\", passwd=\"root\",use_pure=True)\n",
    "    query = \"Select * from Worker where EMAIL_ID like '%@worker.com'\"\n",
    "    result_dataFrame = pandas.read_sql(query,mydb)\n",
    "    print(result_dataFrame)\n",
    "    mydb.close()\n",
    "except Exception as e:\n",
    "    mydb.close()\n",
    "    print(str(e))"
   ]
  },
  {
   "cell_type": "code",
   "execution_count": null,
   "metadata": {},
   "outputs": [],
   "source": []
  }
 ],
 "metadata": {
  "kernelspec": {
   "display_name": "Python 3",
   "language": "python",
   "name": "python3"
  },
  "language_info": {
   "codemirror_mode": {
    "name": "ipython",
    "version": 3
   },
   "file_extension": ".py",
   "mimetype": "text/x-python",
   "name": "python",
   "nbconvert_exporter": "python",
   "pygments_lexer": "ipython3",
   "version": "3.8.5"
  }
 },
 "nbformat": 4,
 "nbformat_minor": 4
}
