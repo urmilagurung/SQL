{
 "cells": [
  {
   "cell_type": "markdown",
   "metadata": {},
   "source": [
    "# SQL Assignment 4"
   ]
  },
  {
   "cell_type": "markdown",
   "metadata": {},
   "source": [
    "Q-1. Write an SQL query to print the FIRST_NAME from Worker table after replacing ‘a’ with ‘A’."
   ]
  },
  {
   "cell_type": "code",
   "execution_count": 1,
   "metadata": {},
   "outputs": [
    {
     "name": "stdout",
     "output_type": "stream",
     "text": [
      "  REPLACE(FIRST_NAME,'a','A')\n",
      "0                      MonikA\n",
      "1                    NihArikA\n",
      "2                      VishAl\n",
      "3                     AmitAbh\n",
      "4                       Vivek\n",
      "5                       Vipul\n",
      "6                      SAtish\n",
      "7                     GeetikA\n"
     ]
    }
   ],
   "source": [
    "import mysql.connector as connection\n",
    "import pandas as pandas\n",
    "\n",
    "try:\n",
    "    mydb = connection.connect(host=\"localhost\", database = 'ORG',user=\"root\", passwd=\"root\",use_pure=True)\n",
    "    query = \"Select REPLACE(FIRST_NAME,'a','A') from Worker\"\n",
    "    result_dataFrame = pandas.read_sql(query,mydb)\n",
    "    print(result_dataFrame)\n",
    "    mydb.close()\n",
    "except Exception as e:\n",
    "    mydb.close()\n",
    "    print(str(e))"
   ]
  },
  {
   "cell_type": "markdown",
   "metadata": {},
   "source": [
    "Q-2. Write an SQL query to print all Worker details from the Worker table order by FIRST_NAME Ascending and DEPARTMENT Descending."
   ]
  },
  {
   "cell_type": "code",
   "execution_count": 4,
   "metadata": {},
   "outputs": [
    {
     "name": "stdout",
     "output_type": "stream",
     "text": [
      "   WORKER_ID FIRST_NAME LAST_NAME  SALARY        JOINING_DATE DEPARTMENT\n",
      "0          4    Amitabh     Singh  500000 2014-02-20 09:00:00      Admin\n",
      "1          8    Geetika   Chauhan   90000 2014-04-11 09:00:00      Admin\n",
      "2          1     Monika     Arora  100000 2014-02-20 09:00:00         HR\n",
      "3          2   Niharika     Verma   80000 2014-06-11 09:00:00      Admin\n",
      "4          7     Satish     Kumar   75000 2014-01-20 09:00:00    Account\n",
      "5          6      Vipul     Diwan  200000 2014-06-11 09:00:00    Account\n",
      "6          3     Vishal   Singhal  300000 2014-02-20 09:00:00         HR\n",
      "7          5      Vivek     Bhati  500000 2014-06-11 09:00:00      Admin\n"
     ]
    }
   ],
   "source": [
    "import mysql.connector as connection\n",
    "import pandas as pandas\n",
    "\n",
    "try:\n",
    "    mydb = connection.connect(host=\"localhost\", database = 'ORG',user=\"root\", passwd=\"root\",use_pure=True)\n",
    "    query = \"Select * from Worker order by FIRST_NAME asc, DEPARTMENT desc;\"\n",
    "    result_dataFrame = pandas.read_sql(query,mydb)\n",
    "    print(result_dataFrame)\n",
    "    mydb.close()\n",
    "except Exception as e:\n",
    "    mydb.close()\n",
    "    print(str(e))"
   ]
  },
  {
   "cell_type": "markdown",
   "metadata": {},
   "source": [
    "Q-3. Write an SQL query to fetch the names of workers who earn the highest salary."
   ]
  },
  {
   "cell_type": "code",
   "execution_count": 8,
   "metadata": {},
   "outputs": [
    {
     "name": "stdout",
     "output_type": "stream",
     "text": [
      "     WORKER NAME  SALARY\n",
      "0  Amitabh Singh  500000\n",
      "1    Vivek Bhati  500000\n"
     ]
    }
   ],
   "source": [
    "import mysql.connector as connection\n",
    "import pandas as pandas\n",
    "\n",
    "try:\n",
    "    mydb = connection.connect(host=\"localhost\", database = 'ORG',user=\"root\", passwd=\"root\",use_pure=True)\n",
    "    query = \"SELECT CONCAT(FIRST_NAME,' ',LAST_NAME) as 'WORKER_NAME', SALARY from Worker WHERE SALARY=(SELECT max(SALARY) from Worker);\"\n",
    "    result_dataFrame = pandas.read_sql(query,mydb)\n",
    "    print(result_dataFrame)\n",
    "    mydb.close()\n",
    "except Exception as e:\n",
    "    mydb.close()\n",
    "    print(str(e))"
   ]
  },
  {
   "cell_type": "code",
   "execution_count": null,
   "metadata": {},
   "outputs": [],
   "source": []
  }
 ],
 "metadata": {
  "kernelspec": {
   "display_name": "Python 3",
   "language": "python",
   "name": "python3"
  },
  "language_info": {
   "codemirror_mode": {
    "name": "ipython",
    "version": 3
   },
   "file_extension": ".py",
   "mimetype": "text/x-python",
   "name": "python",
   "nbconvert_exporter": "python",
   "pygments_lexer": "ipython3",
   "version": "3.8.5"
  }
 },
 "nbformat": 4,
 "nbformat_minor": 4
}
