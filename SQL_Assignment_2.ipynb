{
 "cells": [
  {
   "cell_type": "markdown",
   "metadata": {},
   "source": [
    "# SQL Assignment 2"
   ]
  },
  {
   "cell_type": "markdown",
   "metadata": {},
   "source": [
    "Q-1. Write an SQL query to print the first three characters of  FIRST_NAME from Worker table.\n"
   ]
  },
  {
   "cell_type": "code",
   "execution_count": 4,
   "metadata": {},
   "outputs": [
    {
     "name": "stdout",
     "output_type": "stream",
     "text": [
      "  FIRST_NAME(First 3 Characters)\n",
      "0                            Mon\n",
      "1                            Nih\n",
      "2                            Vis\n",
      "3                            Ami\n",
      "4                            Viv\n",
      "5                            Vip\n",
      "6                            Sat\n",
      "7                            Gee\n"
     ]
    }
   ],
   "source": [
    "import mysql.connector as connection\n",
    "import pandas as pandas\n",
    "\n",
    "try:\n",
    "    mydb = connection.connect(host=\"localhost\", database = 'ORG',user=\"root\", passwd=\"root\",use_pure=True)\n",
    "    query = \"select SUBSTRING(FIRST_NAME,1,3) as 'FIRST_NAME(First 3 Characters)' from worker;\"\n",
    "    result_dataFrame = pandas.read_sql(query,mydb)\n",
    "    print(result_dataFrame)\n",
    "    mydb.close()\n",
    "except Exception as e:\n",
    "    mydb.close()\n",
    "    print(str(e))"
   ]
  },
  {
   "cell_type": "markdown",
   "metadata": {},
   "source": [
    "Q-2. Write an SQL query to find the position of the alphabet (‘a’) in the first name column ‘Amitabh’ from Worker table.\n"
   ]
  },
  {
   "cell_type": "markdown",
   "metadata": {},
   "source": [
    "POSITION OF A"
   ]
  },
  {
   "cell_type": "code",
   "execution_count": 15,
   "metadata": {},
   "outputs": [
    {
     "name": "stdout",
     "output_type": "stream",
     "text": [
      "   POSITION('A' IN FIRST_NAME)\n",
      "0                            1\n"
     ]
    }
   ],
   "source": [
    "import mysql.connector as connection\n",
    "import pandas as pandas\n",
    "\n",
    "try:\n",
    "    mydb = connection.connect(host=\"localhost\", database = 'ORG',user=\"root\", passwd=\"root\",use_pure=True)\n",
    "    query = \"SELECT POSITION('A' IN FIRST_NAME) FROM worker WHERE FIRST_NAME = 'Amitabh'\"\n",
    "    result_dataFrame = pandas.read_sql(query,mydb)\n",
    "    print(result_dataFrame)\n",
    "    mydb.close()\n",
    "except Exception as e:\n",
    "    mydb.close()\n",
    "    print(str(e))"
   ]
  },
  {
   "cell_type": "code",
   "execution_count": 13,
   "metadata": {},
   "outputs": [
    {
     "name": "stdout",
     "output_type": "stream",
     "text": [
      "   INSTR(first_name, 'A')\n",
      "0                       1\n"
     ]
    }
   ],
   "source": [
    "import mysql.connector as connection\n",
    "import pandas as pandas\n",
    "\n",
    "try:\n",
    "    mydb = connection.connect(host=\"localhost\", database = 'ORG',user=\"root\", passwd=\"root\",use_pure=True)\n",
    "    query = \"SELECT INSTR(first_name, 'A') FROM worker WHERE first_name = 'Amitabh'\"\n",
    "    result_dataFrame = pandas.read_sql(query,mydb)\n",
    "    print(result_dataFrame)\n",
    "    mydb.close()\n",
    "except Exception as e:\n",
    "    mydb.close()\n",
    "    print(str(e))\n"
   ]
  },
  {
   "cell_type": "code",
   "execution_count": null,
   "metadata": {},
   "outputs": [],
   "source": [
    "POSITION OF a"
   ]
  },
  {
   "cell_type": "code",
   "execution_count": 9,
   "metadata": {},
   "outputs": [
    {
     "name": "stdout",
     "output_type": "stream",
     "text": [
      "   Position of 'a' in Amitabh\n",
      "0                           5\n"
     ]
    }
   ],
   "source": [
    "import mysql.connector as connection\n",
    "import pandas as pandas\n",
    "\n",
    "try:\n",
    "    mydb = connection.connect(host=\"localhost\", database = 'ORG',user=\"root\", passwd=\"root\",use_pure=True)\n",
    "    query = \"Select INSTR(FIRST_NAME, BINARY'a') as 'Position of ''a'' in Amitabh' from Worker where FIRST_NAME = 'Amitabh'\"\n",
    "    result_dataFrame = pandas.read_sql(query,mydb)\n",
    "    print(result_dataFrame)\n",
    "    mydb.close()\n",
    "except Exception as e:\n",
    "    mydb.close()\n",
    "    print(str(e))"
   ]
  },
  {
   "cell_type": "markdown",
   "metadata": {},
   "source": [
    "Q-3. Write an SQL query to print the name of employees having the highest salary in each department."
   ]
  },
  {
   "cell_type": "code",
   "execution_count": 42,
   "metadata": {},
   "outputs": [
    {
     "name": "stdout",
     "output_type": "stream",
     "text": [
      "  DEPARTMENT     WORKER NAME  Salary\n",
      "0      Admin   Amitabh Singh  500000\n",
      "1      Admin     Vivek Bhati  500000\n",
      "2         HR  Vishal Singhal  300000\n",
      "3    Account     Vipul Diwan  200000\n"
     ]
    }
   ],
   "source": [
    "import mysql.connector as connection\n",
    "import pandas as pandas\n",
    "\n",
    "try:\n",
    "    mydb = connection.connect(host=\"localhost\", database = 'ORG',user=\"root\", passwd=\"root\",use_pure=True)\n",
    "    query = \"SELECT t.DEPARTMENT,CONCAT(t.FIRST_NAME,' ',t.LAST_NAME) as 'WORKER NAME',t.Salary from\\\n",
    "    (SELECT max(Salary) as TotalSalary,DEPARTMENT from Worker group by DEPARTMENT)as TempNew\\\n",
    "    Inner Join Worker t on TempNew.DEPARTMENT=t.DEPARTMENT and TempNew.TotalSalary=t.Salary ORDER BY SALARY DESC\"\n",
    "    result_dataFrame = pandas.read_sql(query,mydb)\n",
    "    print(result_dataFrame)\n",
    "    mydb.close()\n",
    "except Exception as e:\n",
    "    mydb.close()\n",
    "    print(str(e))"
   ]
  },
  {
   "cell_type": "markdown",
   "metadata": {},
   "source": [
    " "
   ]
  },
  {
   "cell_type": "markdown",
   "metadata": {},
   "source": [
    " "
   ]
  }
 ],
 "metadata": {
  "kernelspec": {
   "display_name": "Python 3",
   "language": "python",
   "name": "python3"
  },
  "language_info": {
   "codemirror_mode": {
    "name": "ipython",
    "version": 3
   },
   "file_extension": ".py",
   "mimetype": "text/x-python",
   "name": "python",
   "nbconvert_exporter": "python",
   "pygments_lexer": "ipython3",
   "version": "3.8.5"
  }
 },
 "nbformat": 4,
 "nbformat_minor": 4
}
