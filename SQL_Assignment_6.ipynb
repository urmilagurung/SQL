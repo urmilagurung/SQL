{
 "cells": [
  {
   "cell_type": "markdown",
   "metadata": {},
   "source": [
    "# SQL Assignment 6"
   ]
  },
  {
   "cell_type": "markdown",
   "metadata": {},
   "source": [
    "Q-1. Write an SQL query to print details of the Workers who have joined in Feb’2014."
   ]
  },
  {
   "cell_type": "code",
   "execution_count": 1,
   "metadata": {},
   "outputs": [
    {
     "name": "stdout",
     "output_type": "stream",
     "text": [
      "   WORKER_ID FIRST_NAME LAST_NAME  SALARY        JOINING_DATE DEPARTMENT\n",
      "0          1     Monika     Arora  100000 2014-02-20 09:00:00         HR\n",
      "1          3     Vishal   Singhal  300000 2014-02-20 09:00:00         HR\n",
      "2          4    Amitabh     Singh  500000 2014-02-20 09:00:00      Admin\n"
     ]
    }
   ],
   "source": [
    "import mysql.connector as connection\n",
    "import pandas as pandas\n",
    "\n",
    "try:\n",
    "    mydb = connection.connect(host=\"localhost\", database = 'ORG',user=\"root\", passwd=\"root\",use_pure=True)\n",
    "    query = \"Select * from Worker where year(JOINING_DATE) = 2014 and month(JOINING_DATE) = 2;\"\n",
    "    result_dataFrame = pandas.read_sql(query,mydb)\n",
    "    print(result_dataFrame)\n",
    "    mydb.close()\n",
    "except Exception as e:\n",
    "    mydb.close()\n",
    "    print(str(e))"
   ]
  },
  {
   "cell_type": "markdown",
   "metadata": {},
   "source": [
    "Q-2. Write an SQL query to fetch duplicate records having matching data in some fields of a table."
   ]
  },
  {
   "cell_type": "code",
   "execution_count": 5,
   "metadata": {},
   "outputs": [
    {
     "name": "stdout",
     "output_type": "stream",
     "text": [
      "  WORKER_TITLE AFFECTED_FROM  COUNT(*)\n",
      "0    Executive    2016-06-11         3\n",
      "1         Lead    2016-06-11         2\n"
     ]
    }
   ],
   "source": [
    "import mysql.connector as connection\n",
    "import pandas as pandas\n",
    "\n",
    "try:\n",
    "    mydb = connection.connect(host=\"localhost\", database = 'ORG',user=\"root\", passwd=\"root\",use_pure=True)\n",
    "    query = \"SELECT WORKER_TITLE, AFFECTED_FROM, COUNT(*) FROM Title\\\n",
    "    GROUP BY WORKER_TITLE, AFFECTED_FROM HAVING COUNT(*) > 1\"\n",
    "    result_dataFrame = pandas.read_sql(query,mydb)\n",
    "    print(result_dataFrame)\n",
    "    mydb.close()\n",
    "except Exception as e:\n",
    "    mydb.close()\n",
    "    print(str(e))"
   ]
  },
  {
   "cell_type": "code",
   "execution_count": 6,
   "metadata": {},
   "outputs": [
    {
     "name": "stdout",
     "output_type": "stream",
     "text": [
      "   WORKER_REF_ID   WORKER_TITLE AFFECTED_FROM\n",
      "0              1        Manager    2016-02-20\n",
      "1              2      Executive    2016-06-11\n",
      "2              8      Executive    2016-06-11\n",
      "3              5        Manager    2016-06-11\n",
      "4              4  Asst. Manager    2016-06-11\n",
      "5              7      Executive    2016-06-11\n",
      "6              6           Lead    2016-06-11\n",
      "7              3           Lead    2016-06-11\n"
     ]
    }
   ],
   "source": [
    "import mysql.connector as connection\n",
    "import pandas as pandas\n",
    "\n",
    "try:\n",
    "    mydb = connection.connect(host=\"localhost\", database = 'ORG',user=\"root\", passwd=\"root\",use_pure=True)\n",
    "    query = \"SELECT * from title\"\n",
    "    result_dataFrame = pandas.read_sql(query,mydb)\n",
    "    print(result_dataFrame)\n",
    "    mydb.close()\n",
    "except Exception as e:\n",
    "    mydb.close()\n",
    "    print(str(e))"
   ]
  },
  {
   "cell_type": "markdown",
   "metadata": {},
   "source": [
    "Q-3. How to remove duplicate rows from Employees table."
   ]
  },
  {
   "cell_type": "code",
   "execution_count": null,
   "metadata": {},
   "outputs": [],
   "source": [
    "import mysql.connector as connection\n",
    "import pandas as pandas\n",
    "\n",
    "try:\n",
    "    mydb = connection.connect(host=\"localhost\", database = 'ORG',user=\"root\", passwd=\"root\",use_pure=True)\n",
    "    query = \"DELETE c1 FROM worker c1 INNER JOIN worker c2 WHERE c1.SALARY > c2.SALARY AND c1.FIRST_NAME = c2.FIRST_NAME\"\n",
    "    result_dataFrame = pandas.read_sql(query,mydb)\n",
    "    print(result_dataFrame)\n",
    "    mydb.close()\n",
    "except Exception as e:\n",
    "    mydb.close()\n",
    "    print(str(e))"
   ]
  },
  {
   "cell_type": "code",
   "execution_count": null,
   "metadata": {},
   "outputs": [],
   "source": []
  }
 ],
 "metadata": {
  "kernelspec": {
   "display_name": "Python 3",
   "language": "python",
   "name": "python3"
  },
  "language_info": {
   "codemirror_mode": {
    "name": "ipython",
    "version": 3
   },
   "file_extension": ".py",
   "mimetype": "text/x-python",
   "name": "python",
   "nbconvert_exporter": "python",
   "pygments_lexer": "ipython3",
   "version": "3.8.5"
  }
 },
 "nbformat": 4,
 "nbformat_minor": 4
}
