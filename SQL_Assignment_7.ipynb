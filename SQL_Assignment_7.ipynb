{
 "cells": [
  {
   "cell_type": "markdown",
   "metadata": {},
   "source": [
    "# SQL Assignment 7"
   ]
  },
  {
   "cell_type": "markdown",
   "metadata": {},
   "source": [
    "Q-13. Write an SQL query to show only odd rows from a table."
   ]
  },
  {
   "cell_type": "code",
   "execution_count": 2,
   "metadata": {},
   "outputs": [
    {
     "name": "stdout",
     "output_type": "stream",
     "text": [
      "   WORKER_ID FIRST_NAME LAST_NAME  SALARY        JOINING_DATE DEPARTMENT\n",
      "0          1     Monika     Arora  100000 2014-02-20 09:00:00         HR\n",
      "1          3     Vishal   Singhal  300000 2014-02-20 09:00:00         HR\n",
      "2          5      Vivek     Bhati  500000 2014-06-11 09:00:00      Admin\n",
      "3          7     Satish     Kumar   75000 2014-01-20 09:00:00    Account\n"
     ]
    }
   ],
   "source": [
    "import mysql.connector as connection\n",
    "import pandas as pandas\n",
    "\n",
    "try:\n",
    "    mydb = connection.connect(host=\"localhost\", database = 'ORG',user=\"root\", passwd=\"root\",use_pure=True)\n",
    "    query = \"SELECT * FROM Worker WHERE MOD (WORKER_ID, 2) <> 0;\"\n",
    "    result_dataFrame = pandas.read_sql(query,mydb)\n",
    "    print(result_dataFrame)\n",
    "    mydb.close()\n",
    "except Exception as e:\n",
    "    mydb.close()\n",
    "    print(str(e))"
   ]
  },
  {
   "cell_type": "markdown",
   "metadata": {},
   "source": [
    "Q-14. Write an SQL query to clone a new table from another table."
   ]
  },
  {
   "cell_type": "code",
   "execution_count": 67,
   "metadata": {
    "scrolled": true
   },
   "outputs": [
    {
     "name": "stdout",
     "output_type": "stream",
     "text": [
      "Table created!!\n"
     ]
    }
   ],
   "source": [
    "import mysql.connector as connection\n",
    "try:\n",
    "        mydb=connection.connect(port=3306,database = 'ORG',username=\"root\",password=\"root\",use_pure=\"True\")\n",
    "        query=\"CREATE TABLE WorkerClone LIKE Worker\"\n",
    "        cursor=mydb.cursor()\n",
    "        cursor.execute(query)\n",
    "        print(\"Table created!!\")\n",
    "        mydb.close()\n",
    "except Exception as e:\n",
    "    print(str(e))"
   ]
  },
  {
   "cell_type": "code",
   "execution_count": 68,
   "metadata": {},
   "outputs": [
    {
     "name": "stdout",
     "output_type": "stream",
     "text": [
      "Empty DataFrame\n",
      "Columns: [WORKER_ID, FIRST_NAME, LAST_NAME, SALARY, JOINING_DATE, DEPARTMENT]\n",
      "Index: []\n"
     ]
    }
   ],
   "source": [
    "import mysql.connector as connection\n",
    "try:\n",
    "        mydb=connection.connect(host=\"localhost\",username=\"root\",password=\"root\",use_pure=\"True\")\n",
    "        query=\"select * from ORG.WorkerClone\"\n",
    "        result_dataFrame = pandas.read_sql(query,mydb)\n",
    "        print(result_dataFrame)\n",
    "        mydb.close()\n",
    "except Exception as e:\n",
    "    print(str(e))"
   ]
  },
  {
   "cell_type": "code",
   "execution_count": 70,
   "metadata": {},
   "outputs": [
    {
     "name": "stdout",
     "output_type": "stream",
     "text": [
      "Data Inserted!!\n"
     ]
    }
   ],
   "source": [
    "import mysql.connector as connection\n",
    "\n",
    "try:\n",
    "    mydb = connection.connect(port=3306, database = 'ORG',user=\"root\", passwd=\"root\",use_pure=True)\n",
    "    # check if the connection is established\n",
    "    cursor = mydb.cursor() #create a cursor to execute queries\n",
    "    cursor.execute(\"INSERT INTO  WorkerClone (WORKER_ID,FIRST_NAME,LAST_NAME,SALARY,JOINING_DATE,DEPARTMENT)\\\n",
    "    SELECT WORKER_ID,FIRST_NAME,LAST_NAME,SALARY,JOINING_DATE,DEPARTMENT FROM Worker\")\n",
    "    print(\"Data Inserted!!\")\n",
    "    mydb.commit()\n",
    "    mydb.close()\n",
    "except Exception as e:\n",
    "    mydb.close()\n",
    "    print(str(e))"
   ]
  },
  {
   "cell_type": "code",
   "execution_count": 71,
   "metadata": {},
   "outputs": [
    {
     "name": "stdout",
     "output_type": "stream",
     "text": [
      "   WORKER_ID FIRST_NAME LAST_NAME  SALARY        JOINING_DATE DEPARTMENT\n",
      "0          1     Monika     Arora  100000 2014-02-20 09:00:00         HR\n",
      "1          2   Niharika     Verma   80000 2014-06-11 09:00:00      Admin\n",
      "2          3     Vishal   Singhal  300000 2014-02-20 09:00:00         HR\n",
      "3          4    Amitabh     Singh  500000 2014-02-20 09:00:00      Admin\n",
      "4          5      Vivek     Bhati  500000 2014-06-11 09:00:00      Admin\n",
      "5          6      Vipul     Diwan  200000 2014-06-11 09:00:00    Account\n",
      "6          7     Satish     Kumar   75000 2014-01-20 09:00:00    Account\n",
      "7          8    Geetika   Chauhan   90000 2014-04-11 09:00:00      Admin\n"
     ]
    }
   ],
   "source": [
    "import mysql.connector as connection\n",
    "import pandas as pandas\n",
    "\n",
    "try:\n",
    "    mydb = connection.connect(host=\"localhost\", database = 'ORG',user=\"root\", passwd=\"root\",use_pure=True)\n",
    "    query = \"select * from WorkerClone\"\n",
    "    result_dataFrame = pandas.read_sql(query,mydb)\n",
    "    print(result_dataFrame)\n",
    "    mydb.close()\n",
    "except Exception as e:\n",
    "    mydb.close()\n",
    "    print(str(e))"
   ]
  },
  {
   "cell_type": "markdown",
   "metadata": {},
   "source": []
  }
 ],
 "metadata": {
  "kernelspec": {
   "display_name": "Python 3",
   "language": "python",
   "name": "python3"
  },
  "language_info": {
   "codemirror_mode": {
    "name": "ipython",
    "version": 3
   },
   "file_extension": ".py",
   "mimetype": "text/x-python",
   "name": "python",
   "nbconvert_exporter": "python",
   "pygments_lexer": "ipython3",
   "version": "3.8.5"
  }
 },
 "nbformat": 4,
 "nbformat_minor": 4
}
